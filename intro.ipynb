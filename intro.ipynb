{
  "cells": [
    {
      "cell_type": "code",
      "execution_count": 18,
      "id": "b54fd5b3-4ea0-4f5f-82e1-799335fd0901",
      "metadata": {
        "id": "b54fd5b3-4ea0-4f5f-82e1-799335fd0901"
      },
      "outputs": [],
      "source": [
        "import pandas as pd\n",
        "import json\n",
        "from urllib.request import urlopen\n",
        "import matplotlib.pyplot as plt"
      ]
    },
    {
      "cell_type": "markdown",
      "id": "d59a0e36-e6a4-47fa-85ce-9ac3eaf208e1",
      "metadata": {
        "id": "d59a0e36-e6a4-47fa-85ce-9ac3eaf208e1"
      },
      "source": [
        "We will use the American Community Survey 2021 dataset available from census.gov for our example data analysis. The data is available via API from here: https://www.census.gov/data/developers/data-sets/acs-1year.html"
      ]
    },
    {
      "cell_type": "code",
      "execution_count": null,
      "id": "17533d73-9c50-420f-ac18-cf82271cca27",
      "metadata": {
        "id": "17533d73-9c50-420f-ac18-cf82271cca27",
        "outputId": "712df785-695a-4ed5-fc1e-e28e0576bf62"
      },
      "outputs": [
        {
          "data": {
            "text/plain": [
              "['NAME',\n",
              " 'B19001_001E',\n",
              " 'B19001_002E',\n",
              " 'B19001_003E',\n",
              " 'B19001_004E',\n",
              " 'B19001_005E',\n",
              " 'B19001_006E',\n",
              " 'B19001_007E',\n",
              " 'B19001_008E',\n",
              " 'B19001_009E',\n",
              " 'B19001_010E',\n",
              " 'B19001_011E',\n",
              " 'B19001_012E',\n",
              " 'B19001_013E',\n",
              " 'B19001_014E',\n",
              " 'B19001_015E',\n",
              " 'B19001_016E',\n",
              " 'B19001_017E',\n",
              " 'state',\n",
              " 'congressional district']"
            ]
          },
          "execution_count": 2,
          "metadata": {},
          "output_type": "execute_result"
        }
      ],
      "source": [
        "url=\"https://api.census.gov/data/2021/acs/acs1?get=NAME,B19001_001E,B19001_002E,B19001_003E,B19001_004E,B19001_005E,B19001_006E,B19001_007E,B19001_008E,B19001_009E,B19001_010E,B19001_011E,B19001_012E,B19001_013E,B19001_014E,B19001_015E,B19001_016E,B19001_017E&for=congressional%20district:*&in=state:*\"\n",
        "\n",
        "# store the response of URL\n",
        "response = urlopen(url)\n",
        "  \n",
        "# storing the JSON response \n",
        "# from url in data\n",
        "data_json = json.loads(response.read())\n",
        "data_json.pop(0)"
      ]
    },
    {
      "cell_type": "code",
      "execution_count": null,
      "id": "bb11dbb9-73b8-4a93-968e-7387643780db",
      "metadata": {
        "id": "bb11dbb9-73b8-4a93-968e-7387643780db"
      },
      "outputs": [],
      "source": [
        "cols = ['District Name','Total Households','Less than $10k', '$10k to $15k', '$15k to $20k', '$20k to $25k', '$25k to $30k', '$30k to $35k', '$35k to $40k', '$40k to $45k', '$45k to $50k', '$50k to 60k', '$60k to $75k', '$75k to $100k', '$100k to $125k', '$125k to $150k', '$150k to $200k', '$200k+', 'State code', 'district number']\n",
        "\n",
        "df = pd.DataFrame(data_json, columns = cols)"
      ]
    },
    {
      "cell_type": "markdown",
      "id": "18deee20-63fe-48e3-9215-8204b0cb7778",
      "metadata": {
        "id": "18deee20-63fe-48e3-9215-8204b0cb7778"
      },
      "source": [
        "The description of columns can be found here: https://api.census.gov/data/2021/acs/acs1/variables.html. Let's take a look at what columns were pulled down in our data."
      ]
    },
    {
      "cell_type": "code",
      "execution_count": null,
      "id": "e2c688d2-011c-462d-8403-64dabad48402",
      "metadata": {
        "id": "e2c688d2-011c-462d-8403-64dabad48402",
        "outputId": "2d9a970f-a31a-4734-a6cb-1bf5cc26a6d1"
      },
      "outputs": [
        {
          "data": {
            "text/html": [
              "<div>\n",
              "<style scoped>\n",
              "    .dataframe tbody tr th:only-of-type {\n",
              "        vertical-align: middle;\n",
              "    }\n",
              "\n",
              "    .dataframe tbody tr th {\n",
              "        vertical-align: top;\n",
              "    }\n",
              "\n",
              "    .dataframe thead th {\n",
              "        text-align: right;\n",
              "    }\n",
              "</style>\n",
              "<table border=\"1\" class=\"dataframe\">\n",
              "  <thead>\n",
              "    <tr style=\"text-align: right;\">\n",
              "      <th></th>\n",
              "      <th>District Name</th>\n",
              "      <th>Total Households</th>\n",
              "      <th>Less than $10k</th>\n",
              "      <th>$10k to $15k</th>\n",
              "      <th>$15k to $20k</th>\n",
              "      <th>$20k to $25k</th>\n",
              "      <th>$25k to $30k</th>\n",
              "      <th>$30k to $35k</th>\n",
              "      <th>$35k to $40k</th>\n",
              "      <th>$40k to $45k</th>\n",
              "      <th>$45k to $50k</th>\n",
              "      <th>$50k to 60k</th>\n",
              "      <th>$60k to $75k</th>\n",
              "      <th>$75k to $100k</th>\n",
              "      <th>$100k to $125k</th>\n",
              "      <th>$125k to $150k</th>\n",
              "      <th>$150k to $200k</th>\n",
              "      <th>$200k+</th>\n",
              "      <th>State code</th>\n",
              "      <th>district number</th>\n",
              "    </tr>\n",
              "  </thead>\n",
              "  <tbody>\n",
              "    <tr>\n",
              "      <th>0</th>\n",
              "      <td>Congressional District 10 (116th Congress), Mi...</td>\n",
              "      <td>289474</td>\n",
              "      <td>14153</td>\n",
              "      <td>8574</td>\n",
              "      <td>9605</td>\n",
              "      <td>10319</td>\n",
              "      <td>10870</td>\n",
              "      <td>11707</td>\n",
              "      <td>10783</td>\n",
              "      <td>13658</td>\n",
              "      <td>12482</td>\n",
              "      <td>22164</td>\n",
              "      <td>31054</td>\n",
              "      <td>40352</td>\n",
              "      <td>28842</td>\n",
              "      <td>22277</td>\n",
              "      <td>23244</td>\n",
              "      <td>19390</td>\n",
              "      <td>26</td>\n",
              "      <td>10</td>\n",
              "    </tr>\n",
              "    <tr>\n",
              "      <th>1</th>\n",
              "      <td>Congressional District 4 (116th Congress), Mis...</td>\n",
              "      <td>299804</td>\n",
              "      <td>23793</td>\n",
              "      <td>16264</td>\n",
              "      <td>14008</td>\n",
              "      <td>15316</td>\n",
              "      <td>20125</td>\n",
              "      <td>14790</td>\n",
              "      <td>13814</td>\n",
              "      <td>16133</td>\n",
              "      <td>10919</td>\n",
              "      <td>23078</td>\n",
              "      <td>28276</td>\n",
              "      <td>38467</td>\n",
              "      <td>27735</td>\n",
              "      <td>13785</td>\n",
              "      <td>12402</td>\n",
              "      <td>10899</td>\n",
              "      <td>28</td>\n",
              "      <td>04</td>\n",
              "    </tr>\n",
              "    <tr>\n",
              "      <th>2</th>\n",
              "      <td>Congressional District 14 (116th Congress), Mi...</td>\n",
              "      <td>278057</td>\n",
              "      <td>27728</td>\n",
              "      <td>14359</td>\n",
              "      <td>12752</td>\n",
              "      <td>13289</td>\n",
              "      <td>13759</td>\n",
              "      <td>12459</td>\n",
              "      <td>14673</td>\n",
              "      <td>12675</td>\n",
              "      <td>9952</td>\n",
              "      <td>21018</td>\n",
              "      <td>23043</td>\n",
              "      <td>29275</td>\n",
              "      <td>20611</td>\n",
              "      <td>12951</td>\n",
              "      <td>19939</td>\n",
              "      <td>19574</td>\n",
              "      <td>26</td>\n",
              "      <td>14</td>\n",
              "    </tr>\n",
              "    <tr>\n",
              "      <th>3</th>\n",
              "      <td>Congressional District 1 (116th Congress), Mic...</td>\n",
              "      <td>306685</td>\n",
              "      <td>19036</td>\n",
              "      <td>14152</td>\n",
              "      <td>13144</td>\n",
              "      <td>13468</td>\n",
              "      <td>14771</td>\n",
              "      <td>15786</td>\n",
              "      <td>14240</td>\n",
              "      <td>15052</td>\n",
              "      <td>12376</td>\n",
              "      <td>28108</td>\n",
              "      <td>33589</td>\n",
              "      <td>43639</td>\n",
              "      <td>28864</td>\n",
              "      <td>14715</td>\n",
              "      <td>13537</td>\n",
              "      <td>12208</td>\n",
              "      <td>26</td>\n",
              "      <td>01</td>\n",
              "    </tr>\n",
              "    <tr>\n",
              "      <th>4</th>\n",
              "      <td>Congressional District 3 (116th Congress), Mis...</td>\n",
              "      <td>285554</td>\n",
              "      <td>26481</td>\n",
              "      <td>16824</td>\n",
              "      <td>13989</td>\n",
              "      <td>16009</td>\n",
              "      <td>13069</td>\n",
              "      <td>13606</td>\n",
              "      <td>15042</td>\n",
              "      <td>13777</td>\n",
              "      <td>10013</td>\n",
              "      <td>21038</td>\n",
              "      <td>27346</td>\n",
              "      <td>32678</td>\n",
              "      <td>22071</td>\n",
              "      <td>15815</td>\n",
              "      <td>15384</td>\n",
              "      <td>12412</td>\n",
              "      <td>28</td>\n",
              "      <td>03</td>\n",
              "    </tr>\n",
              "  </tbody>\n",
              "</table>\n",
              "</div>"
            ],
            "text/plain": [
              "                                       District Name Total Households  \\\n",
              "0  Congressional District 10 (116th Congress), Mi...           289474   \n",
              "1  Congressional District 4 (116th Congress), Mis...           299804   \n",
              "2  Congressional District 14 (116th Congress), Mi...           278057   \n",
              "3  Congressional District 1 (116th Congress), Mic...           306685   \n",
              "4  Congressional District 3 (116th Congress), Mis...           285554   \n",
              "\n",
              "  Less than $10k $10k to $15k $15k to $20k $20k to $25k $25k to $30k  \\\n",
              "0          14153         8574         9605        10319        10870   \n",
              "1          23793        16264        14008        15316        20125   \n",
              "2          27728        14359        12752        13289        13759   \n",
              "3          19036        14152        13144        13468        14771   \n",
              "4          26481        16824        13989        16009        13069   \n",
              "\n",
              "  $30k to $35k $35k to $40k $40k to $45k $45k to $50k $50k to 60k  \\\n",
              "0        11707        10783        13658        12482       22164   \n",
              "1        14790        13814        16133        10919       23078   \n",
              "2        12459        14673        12675         9952       21018   \n",
              "3        15786        14240        15052        12376       28108   \n",
              "4        13606        15042        13777        10013       21038   \n",
              "\n",
              "  $60k to $75k $75k to $100k $100k to $125k $125k to $150k $150k to $200k  \\\n",
              "0        31054         40352          28842          22277          23244   \n",
              "1        28276         38467          27735          13785          12402   \n",
              "2        23043         29275          20611          12951          19939   \n",
              "3        33589         43639          28864          14715          13537   \n",
              "4        27346         32678          22071          15815          15384   \n",
              "\n",
              "  $200k+ State code district number  \n",
              "0  19390         26              10  \n",
              "1  10899         28              04  \n",
              "2  19574         26              14  \n",
              "3  12208         26              01  \n",
              "4  12412         28              03  "
            ]
          },
          "execution_count": 21,
          "metadata": {},
          "output_type": "execute_result"
        }
      ],
      "source": [
        "df.head()"
      ]
    },
    {
      "cell_type": "markdown",
      "id": "9a535e46-c59f-41c9-9f9e-40fd152e8b74",
      "metadata": {
        "id": "9a535e46-c59f-41c9-9f9e-40fd152e8b74"
      },
      "source": [
        "Let's rename these columns based on the descriptions from the census so they are more human readable."
      ]
    },
    {
      "cell_type": "code",
      "execution_count": null,
      "id": "2ecfd00c-7be0-45db-bbd3-6c4ab13a142e",
      "metadata": {
        "id": "2ecfd00c-7be0-45db-bbd3-6c4ab13a142e"
      },
      "outputs": [],
      "source": [
        "df[\"Total Households\"] = pd.to_numeric(df[\"Total Households\"])\n",
        "df[\"Less than $10k\"] = pd.to_numeric(df[\"Less than $10k\"])\n",
        "df['$10k to $15k'] = pd.to_numeric(df['$10k to $15k'])\n",
        "df['$15k to $20k'] = pd.to_numeric(df['$15k to $20k'])\n",
        "df['$20k to $25k'] = pd.to_numeric(df['$20k to $25k'])\n",
        "df['$25k to $30k'] = pd.to_numeric(df['$25k to $30k'])\n",
        "df['$30k to $35k'] = pd.to_numeric(df['$30k to $35k'])\n",
        "df['$35k to $40k'] = pd.to_numeric(df['$35k to $40k'])\n",
        "df['$40k to $45k'] = pd.to_numeric(df['$40k to $45k'])\n",
        "\n",
        "# '$10k to $15k', '$15k to $20k', '$20k to $25k', '$25k to $30k', '$30k to $35k', '$35k to $40k', '$40k to $45k', '$45k to $50k', '$50k to 60k', '$60k to $75k', '$75k to $100k', '$100k to $125k', '$125k to $150k', '$150k to $200k', '$200k+'"
      ]
    },
    {
      "cell_type": "code",
      "execution_count": null,
      "id": "98d6df1f-bab0-49dd-981a-3fef3c4db920",
      "metadata": {
        "id": "98d6df1f-bab0-49dd-981a-3fef3c4db920",
        "outputId": "b9759772-344f-418f-e5e0-e37a61a03442"
      },
      "outputs": [
        {
          "data": {
            "text/html": [
              "<div>\n",
              "<style scoped>\n",
              "    .dataframe tbody tr th:only-of-type {\n",
              "        vertical-align: middle;\n",
              "    }\n",
              "\n",
              "    .dataframe tbody tr th {\n",
              "        vertical-align: top;\n",
              "    }\n",
              "\n",
              "    .dataframe thead th {\n",
              "        text-align: right;\n",
              "    }\n",
              "</style>\n",
              "<table border=\"1\" class=\"dataframe\">\n",
              "  <thead>\n",
              "    <tr style=\"text-align: right;\">\n",
              "      <th></th>\n",
              "      <th>District Name</th>\n",
              "      <th>Total Households</th>\n",
              "      <th>Less than $10k</th>\n",
              "      <th>$10k to $15k</th>\n",
              "      <th>$15k to $20k</th>\n",
              "      <th>$20k to $25k</th>\n",
              "      <th>$25k to $30k</th>\n",
              "      <th>$30k to $35k</th>\n",
              "      <th>$35k to $40k</th>\n",
              "      <th>$40k to $45k</th>\n",
              "      <th>$45k to $50k</th>\n",
              "      <th>$50k to 60k</th>\n",
              "      <th>$60k to $75k</th>\n",
              "      <th>$75k to $100k</th>\n",
              "      <th>$100k to $125k</th>\n",
              "      <th>$125k to $150k</th>\n",
              "      <th>$150k to $200k</th>\n",
              "      <th>$200k+</th>\n",
              "      <th>State code</th>\n",
              "      <th>district number</th>\n",
              "    </tr>\n",
              "  </thead>\n",
              "  <tbody>\n",
              "    <tr>\n",
              "      <th>354</th>\n",
              "      <td>Resident Commissioner District (at Large) (116...</td>\n",
              "      <td>1165982</td>\n",
              "      <td>286499</td>\n",
              "      <td>132217</td>\n",
              "      <td>118108</td>\n",
              "      <td>95934</td>\n",
              "      <td>80680</td>\n",
              "      <td>68290</td>\n",
              "      <td>57630</td>\n",
              "      <td>44777</td>\n",
              "      <td>38025</td>\n",
              "      <td>57373</td>\n",
              "      <td>67045</td>\n",
              "      <td>52813</td>\n",
              "      <td>25145</td>\n",
              "      <td>13678</td>\n",
              "      <td>11910</td>\n",
              "      <td>15858</td>\n",
              "      <td>72</td>\n",
              "      <td>98</td>\n",
              "    </tr>\n",
              "    <tr>\n",
              "      <th>228</th>\n",
              "      <td>Congressional District (at Large) (116th Congr...</td>\n",
              "      <td>448949</td>\n",
              "      <td>23195</td>\n",
              "      <td>18852</td>\n",
              "      <td>17978</td>\n",
              "      <td>19187</td>\n",
              "      <td>21275</td>\n",
              "      <td>19387</td>\n",
              "      <td>21825</td>\n",
              "      <td>18695</td>\n",
              "      <td>18117</td>\n",
              "      <td>34567</td>\n",
              "      <td>49372</td>\n",
              "      <td>58776</td>\n",
              "      <td>40723</td>\n",
              "      <td>26653</td>\n",
              "      <td>29563</td>\n",
              "      <td>30784</td>\n",
              "      <td>30</td>\n",
              "      <td>00</td>\n",
              "    </tr>\n",
              "    <tr>\n",
              "      <th>105</th>\n",
              "      <td>Congressional District (at Large) (116th Congr...</td>\n",
              "      <td>395656</td>\n",
              "      <td>20504</td>\n",
              "      <td>12424</td>\n",
              "      <td>14048</td>\n",
              "      <td>14630</td>\n",
              "      <td>12650</td>\n",
              "      <td>14963</td>\n",
              "      <td>13473</td>\n",
              "      <td>16130</td>\n",
              "      <td>16947</td>\n",
              "      <td>30580</td>\n",
              "      <td>40495</td>\n",
              "      <td>53506</td>\n",
              "      <td>40262</td>\n",
              "      <td>23969</td>\n",
              "      <td>38050</td>\n",
              "      <td>33025</td>\n",
              "      <td>10</td>\n",
              "      <td>00</td>\n",
              "    </tr>\n",
              "    <tr>\n",
              "      <th>120</th>\n",
              "      <td>Congressional District 1 (116th Congress), Col...</td>\n",
              "      <td>377896</td>\n",
              "      <td>21584</td>\n",
              "      <td>12359</td>\n",
              "      <td>9574</td>\n",
              "      <td>11193</td>\n",
              "      <td>10647</td>\n",
              "      <td>10706</td>\n",
              "      <td>9649</td>\n",
              "      <td>13513</td>\n",
              "      <td>11221</td>\n",
              "      <td>25533</td>\n",
              "      <td>34597</td>\n",
              "      <td>48380</td>\n",
              "      <td>36114</td>\n",
              "      <td>32960</td>\n",
              "      <td>38056</td>\n",
              "      <td>51810</td>\n",
              "      <td>08</td>\n",
              "      <td>01</td>\n",
              "    </tr>\n",
              "    <tr>\n",
              "      <th>64</th>\n",
              "      <td>Congressional District 7 (116th Congress), Was...</td>\n",
              "      <td>373393</td>\n",
              "      <td>18604</td>\n",
              "      <td>8160</td>\n",
              "      <td>8750</td>\n",
              "      <td>8160</td>\n",
              "      <td>8493</td>\n",
              "      <td>8884</td>\n",
              "      <td>10453</td>\n",
              "      <td>10794</td>\n",
              "      <td>6482</td>\n",
              "      <td>20827</td>\n",
              "      <td>26040</td>\n",
              "      <td>36145</td>\n",
              "      <td>36771</td>\n",
              "      <td>27519</td>\n",
              "      <td>43213</td>\n",
              "      <td>94098</td>\n",
              "      <td>53</td>\n",
              "      <td>07</td>\n",
              "    </tr>\n",
              "  </tbody>\n",
              "</table>\n",
              "</div>"
            ],
            "text/plain": [
              "                                         District Name  Total Households  \\\n",
              "354  Resident Commissioner District (at Large) (116...           1165982   \n",
              "228  Congressional District (at Large) (116th Congr...            448949   \n",
              "105  Congressional District (at Large) (116th Congr...            395656   \n",
              "120  Congressional District 1 (116th Congress), Col...            377896   \n",
              "64   Congressional District 7 (116th Congress), Was...            373393   \n",
              "\n",
              "     Less than $10k  $10k to $15k  $15k to $20k $20k to $25k $25k to $30k  \\\n",
              "354          286499        132217        118108        95934        80680   \n",
              "228           23195         18852         17978        19187        21275   \n",
              "105           20504         12424         14048        14630        12650   \n",
              "120           21584         12359          9574        11193        10647   \n",
              "64            18604          8160          8750         8160         8493   \n",
              "\n",
              "    $30k to $35k $35k to $40k $40k to $45k $45k to $50k $50k to 60k  \\\n",
              "354        68290        57630        44777        38025       57373   \n",
              "228        19387        21825        18695        18117       34567   \n",
              "105        14963        13473        16130        16947       30580   \n",
              "120        10706         9649        13513        11221       25533   \n",
              "64          8884        10453        10794         6482       20827   \n",
              "\n",
              "    $60k to $75k $75k to $100k $100k to $125k $125k to $150k $150k to $200k  \\\n",
              "354        67045         52813          25145          13678          11910   \n",
              "228        49372         58776          40723          26653          29563   \n",
              "105        40495         53506          40262          23969          38050   \n",
              "120        34597         48380          36114          32960          38056   \n",
              "64         26040         36145          36771          27519          43213   \n",
              "\n",
              "    $200k+ State code district number  \n",
              "354  15858         72              98  \n",
              "228  30784         30              00  \n",
              "105  33025         10              00  \n",
              "120  51810         08              01  \n",
              "64   94098         53              07  "
            ]
          },
          "execution_count": 23,
          "metadata": {},
          "output_type": "execute_result"
        }
      ],
      "source": [
        "df.sort_values('Total Households', ascending=False).head()"
      ]
    },
    {
      "cell_type": "code",
      "execution_count": 1,
      "id": "b0b57f6f-e308-49bb-a07d-4d61f9001edf",
      "metadata": {
        "id": "b0b57f6f-e308-49bb-a07d-4d61f9001edf",
        "outputId": "38908e66-1d0c-4116-eb4f-a5c87d0b1e46",
        "colab": {
          "base_uri": "https://localhost:8080/",
          "height": 183
        }
      },
      "outputs": [
        {
          "output_type": "error",
          "ename": "NameError",
          "evalue": "ignored",
          "traceback": [
            "\u001b[0;31m---------------------------------------------------------------------------\u001b[0m",
            "\u001b[0;31mNameError\u001b[0m                                 Traceback (most recent call last)",
            "\u001b[0;32m<ipython-input-1-b9ddbe43d470>\u001b[0m in \u001b[0;36m<module>\u001b[0;34m\u001b[0m\n\u001b[0;32m----> 1\u001b[0;31m \u001b[0mdf_unpivot\u001b[0m \u001b[0;34m=\u001b[0m \u001b[0mpd\u001b[0m\u001b[0;34m.\u001b[0m\u001b[0mmelt\u001b[0m\u001b[0;34m(\u001b[0m\u001b[0mdf\u001b[0m\u001b[0;34m,\u001b[0m \u001b[0mid_vars\u001b[0m\u001b[0;34m=\u001b[0m\u001b[0;34m'District Name'\u001b[0m\u001b[0;34m,\u001b[0m \u001b[0mvalue_vars\u001b[0m\u001b[0;34m=\u001b[0m\u001b[0;34m[\u001b[0m\u001b[0;34m'Total Households'\u001b[0m\u001b[0;34m,\u001b[0m \u001b[0;34m'Less than $10k'\u001b[0m\u001b[0;34m,\u001b[0m \u001b[0;34m'$10k to $15k'\u001b[0m\u001b[0;34m]\u001b[0m\u001b[0;34m)\u001b[0m\u001b[0;34m\u001b[0m\u001b[0;34m\u001b[0m\u001b[0m\n\u001b[0m",
            "\u001b[0;31mNameError\u001b[0m: name 'pd' is not defined"
          ]
        }
      ],
      "source": [
        "df_unpivot = pd.melt(df, id_vars='District Name', value_vars=['Total Households', 'Less than $10k', '$10k to $15k'])"
      ]
    },
    {
      "cell_type": "code",
      "execution_count": null,
      "id": "a322edc0-3bf7-41a5-b0de-e7391af757f7",
      "metadata": {
        "id": "a322edc0-3bf7-41a5-b0de-e7391af757f7",
        "outputId": "2640121d-a77e-43f7-b707-03650daa0978"
      },
      "outputs": [
        {
          "data": {
            "text/plain": [
              "<AxesSubplot:>"
            ]
          },
          "execution_count": 32,
          "metadata": {},
          "output_type": "execute_result"
        },
        {
          "data": {
            "image/png": "[encoded data removed]",
            "text/plain": [
              "<Figure size 640x480 with 1 Axes>"
            ]
          },
          "metadata": {},
          "output_type": "display_data"
        }
      ],
      "source": [
        "df.plot()"
      ]
    },
    {
      "cell_type": "code",
      "source": [
        "df_unpivot.plot(color=df_unpivot['District Name'])"
      ],
      "metadata": {
        "id": "UiBpsGKfhHqM",
        "outputId": "f7fbd2d6-a6f5-43f2-de95-ed1636a82a16",
        "colab": {
          "base_uri": "https://localhost:8080/",
          "height": 563
        }
      },
      "id": "UiBpsGKfhHqM",
      "execution_count": 24,
      "outputs": [
        {
          "output_type": "error",
          "ename": "ValueError",
          "evalue": "ignored",
          "traceback": [
            "\u001b[0;31m---------------------------------------------------------------------------\u001b[0m",
            "\u001b[0;31mValueError\u001b[0m                                Traceback (most recent call last)",
            "\u001b[0;32m<ipython-input-24-cffcacf42b64>\u001b[0m in \u001b[0;36m<module>\u001b[0;34m\u001b[0m\n\u001b[0;32m----> 1\u001b[0;31m \u001b[0mdf_unpivot\u001b[0m\u001b[0;34m.\u001b[0m\u001b[0mplot\u001b[0m\u001b[0;34m(\u001b[0m\u001b[0mcolor\u001b[0m\u001b[0;34m=\u001b[0m\u001b[0mdf_unpivot\u001b[0m\u001b[0;34m[\u001b[0m\u001b[0;34m'District Name'\u001b[0m\u001b[0;34m]\u001b[0m\u001b[0;34m)\u001b[0m\u001b[0;34m\u001b[0m\u001b[0;34m\u001b[0m\u001b[0m\n\u001b[0m",
            "\u001b[0;32m/usr/local/lib/python3.8/dist-packages/pandas/plotting/_core.py\u001b[0m in \u001b[0;36m__call__\u001b[0;34m(self, *args, **kwargs)\u001b[0m\n\u001b[1;32m    970\u001b[0m                     \u001b[0mdata\u001b[0m\u001b[0;34m.\u001b[0m\u001b[0mcolumns\u001b[0m \u001b[0;34m=\u001b[0m \u001b[0mlabel_name\u001b[0m\u001b[0;34m\u001b[0m\u001b[0;34m\u001b[0m\u001b[0m\n\u001b[1;32m    971\u001b[0m \u001b[0;34m\u001b[0m\u001b[0m\n\u001b[0;32m--> 972\u001b[0;31m         \u001b[0;32mreturn\u001b[0m \u001b[0mplot_backend\u001b[0m\u001b[0;34m.\u001b[0m\u001b[0mplot\u001b[0m\u001b[0;34m(\u001b[0m\u001b[0mdata\u001b[0m\u001b[0;34m,\u001b[0m \u001b[0mkind\u001b[0m\u001b[0;34m=\u001b[0m\u001b[0mkind\u001b[0m\u001b[0;34m,\u001b[0m \u001b[0;34m**\u001b[0m\u001b[0mkwargs\u001b[0m\u001b[0;34m)\u001b[0m\u001b[0;34m\u001b[0m\u001b[0;34m\u001b[0m\u001b[0m\n\u001b[0m\u001b[1;32m    973\u001b[0m \u001b[0;34m\u001b[0m\u001b[0m\n\u001b[1;32m    974\u001b[0m     \u001b[0m__call__\u001b[0m\u001b[0;34m.\u001b[0m\u001b[0m__doc__\u001b[0m \u001b[0;34m=\u001b[0m \u001b[0m__doc__\u001b[0m\u001b[0;34m\u001b[0m\u001b[0;34m\u001b[0m\u001b[0m\n",
            "\u001b[0;32m/usr/local/lib/python3.8/dist-packages/pandas/plotting/_matplotlib/__init__.py\u001b[0m in \u001b[0;36mplot\u001b[0;34m(data, kind, **kwargs)\u001b[0m\n\u001b[1;32m     69\u001b[0m             \u001b[0mkwargs\u001b[0m\u001b[0;34m[\u001b[0m\u001b[0;34m\"ax\"\u001b[0m\u001b[0;34m]\u001b[0m \u001b[0;34m=\u001b[0m \u001b[0mgetattr\u001b[0m\u001b[0;34m(\u001b[0m\u001b[0max\u001b[0m\u001b[0;34m,\u001b[0m \u001b[0;34m\"left_ax\"\u001b[0m\u001b[0;34m,\u001b[0m \u001b[0max\u001b[0m\u001b[0;34m)\u001b[0m\u001b[0;34m\u001b[0m\u001b[0;34m\u001b[0m\u001b[0m\n\u001b[1;32m     70\u001b[0m     \u001b[0mplot_obj\u001b[0m \u001b[0;34m=\u001b[0m \u001b[0mPLOT_CLASSES\u001b[0m\u001b[0;34m[\u001b[0m\u001b[0mkind\u001b[0m\u001b[0;34m]\u001b[0m\u001b[0;34m(\u001b[0m\u001b[0mdata\u001b[0m\u001b[0;34m,\u001b[0m \u001b[0;34m**\u001b[0m\u001b[0mkwargs\u001b[0m\u001b[0;34m)\u001b[0m\u001b[0;34m\u001b[0m\u001b[0;34m\u001b[0m\u001b[0m\n\u001b[0;32m---> 71\u001b[0;31m     \u001b[0mplot_obj\u001b[0m\u001b[0;34m.\u001b[0m\u001b[0mgenerate\u001b[0m\u001b[0;34m(\u001b[0m\u001b[0;34m)\u001b[0m\u001b[0;34m\u001b[0m\u001b[0;34m\u001b[0m\u001b[0m\n\u001b[0m\u001b[1;32m     72\u001b[0m     \u001b[0mplot_obj\u001b[0m\u001b[0;34m.\u001b[0m\u001b[0mdraw\u001b[0m\u001b[0;34m(\u001b[0m\u001b[0;34m)\u001b[0m\u001b[0;34m\u001b[0m\u001b[0;34m\u001b[0m\u001b[0m\n\u001b[1;32m     73\u001b[0m     \u001b[0;32mreturn\u001b[0m \u001b[0mplot_obj\u001b[0m\u001b[0;34m.\u001b[0m\u001b[0mresult\u001b[0m\u001b[0;34m\u001b[0m\u001b[0;34m\u001b[0m\u001b[0m\n",
            "\u001b[0;32m/usr/local/lib/python3.8/dist-packages/pandas/plotting/_matplotlib/core.py\u001b[0m in \u001b[0;36mgenerate\u001b[0;34m(self)\u001b[0m\n\u001b[1;32m    286\u001b[0m         \u001b[0mself\u001b[0m\u001b[0;34m.\u001b[0m\u001b[0m_compute_plot_data\u001b[0m\u001b[0;34m(\u001b[0m\u001b[0;34m)\u001b[0m\u001b[0;34m\u001b[0m\u001b[0;34m\u001b[0m\u001b[0m\n\u001b[1;32m    287\u001b[0m         \u001b[0mself\u001b[0m\u001b[0;34m.\u001b[0m\u001b[0m_setup_subplots\u001b[0m\u001b[0;34m(\u001b[0m\u001b[0;34m)\u001b[0m\u001b[0;34m\u001b[0m\u001b[0;34m\u001b[0m\u001b[0m\n\u001b[0;32m--> 288\u001b[0;31m         \u001b[0mself\u001b[0m\u001b[0;34m.\u001b[0m\u001b[0m_make_plot\u001b[0m\u001b[0;34m(\u001b[0m\u001b[0;34m)\u001b[0m\u001b[0;34m\u001b[0m\u001b[0;34m\u001b[0m\u001b[0m\n\u001b[0m\u001b[1;32m    289\u001b[0m         \u001b[0mself\u001b[0m\u001b[0;34m.\u001b[0m\u001b[0m_add_table\u001b[0m\u001b[0;34m(\u001b[0m\u001b[0;34m)\u001b[0m\u001b[0;34m\u001b[0m\u001b[0;34m\u001b[0m\u001b[0m\n\u001b[1;32m    290\u001b[0m         \u001b[0mself\u001b[0m\u001b[0;34m.\u001b[0m\u001b[0m_make_legend\u001b[0m\u001b[0;34m(\u001b[0m\u001b[0;34m)\u001b[0m\u001b[0;34m\u001b[0m\u001b[0;34m\u001b[0m\u001b[0m\n",
            "\u001b[0;32m/usr/local/lib/python3.8/dist-packages/pandas/plotting/_matplotlib/core.py\u001b[0m in \u001b[0;36m_make_plot\u001b[0;34m(self)\u001b[0m\n\u001b[1;32m   1167\u001b[0m         \u001b[0mis_errorbar\u001b[0m \u001b[0;34m=\u001b[0m \u001b[0mcom\u001b[0m\u001b[0;34m.\u001b[0m\u001b[0many_not_none\u001b[0m\u001b[0;34m(\u001b[0m\u001b[0;34m*\u001b[0m\u001b[0mself\u001b[0m\u001b[0;34m.\u001b[0m\u001b[0merrors\u001b[0m\u001b[0;34m.\u001b[0m\u001b[0mvalues\u001b[0m\u001b[0;34m(\u001b[0m\u001b[0;34m)\u001b[0m\u001b[0;34m)\u001b[0m\u001b[0;34m\u001b[0m\u001b[0;34m\u001b[0m\u001b[0m\n\u001b[1;32m   1168\u001b[0m \u001b[0;34m\u001b[0m\u001b[0m\n\u001b[0;32m-> 1169\u001b[0;31m         \u001b[0mcolors\u001b[0m \u001b[0;34m=\u001b[0m \u001b[0mself\u001b[0m\u001b[0;34m.\u001b[0m\u001b[0m_get_colors\u001b[0m\u001b[0;34m(\u001b[0m\u001b[0;34m)\u001b[0m\u001b[0;34m\u001b[0m\u001b[0;34m\u001b[0m\u001b[0m\n\u001b[0m\u001b[1;32m   1170\u001b[0m         \u001b[0;32mfor\u001b[0m \u001b[0mi\u001b[0m\u001b[0;34m,\u001b[0m \u001b[0;34m(\u001b[0m\u001b[0mlabel\u001b[0m\u001b[0;34m,\u001b[0m \u001b[0my\u001b[0m\u001b[0;34m)\u001b[0m \u001b[0;32min\u001b[0m \u001b[0menumerate\u001b[0m\u001b[0;34m(\u001b[0m\u001b[0mit\u001b[0m\u001b[0;34m)\u001b[0m\u001b[0;34m:\u001b[0m\u001b[0;34m\u001b[0m\u001b[0;34m\u001b[0m\u001b[0m\n\u001b[1;32m   1171\u001b[0m             \u001b[0max\u001b[0m \u001b[0;34m=\u001b[0m \u001b[0mself\u001b[0m\u001b[0;34m.\u001b[0m\u001b[0m_get_ax\u001b[0m\u001b[0;34m(\u001b[0m\u001b[0mi\u001b[0m\u001b[0;34m)\u001b[0m\u001b[0;34m\u001b[0m\u001b[0;34m\u001b[0m\u001b[0m\n",
            "\u001b[0;32m/usr/local/lib/python3.8/dist-packages/pandas/plotting/_matplotlib/core.py\u001b[0m in \u001b[0;36m_get_colors\u001b[0;34m(self, num_colors, color_kwds)\u001b[0m\n\u001b[1;32m    796\u001b[0m             \u001b[0mnum_colors\u001b[0m \u001b[0;34m=\u001b[0m \u001b[0mself\u001b[0m\u001b[0;34m.\u001b[0m\u001b[0mnseries\u001b[0m\u001b[0;34m\u001b[0m\u001b[0;34m\u001b[0m\u001b[0m\n\u001b[1;32m    797\u001b[0m \u001b[0;34m\u001b[0m\u001b[0m\n\u001b[0;32m--> 798\u001b[0;31m         return get_standard_colors(\n\u001b[0m\u001b[1;32m    799\u001b[0m             \u001b[0mnum_colors\u001b[0m\u001b[0;34m=\u001b[0m\u001b[0mnum_colors\u001b[0m\u001b[0;34m,\u001b[0m\u001b[0;34m\u001b[0m\u001b[0;34m\u001b[0m\u001b[0m\n\u001b[1;32m    800\u001b[0m             \u001b[0mcolormap\u001b[0m\u001b[0;34m=\u001b[0m\u001b[0mself\u001b[0m\u001b[0;34m.\u001b[0m\u001b[0mcolormap\u001b[0m\u001b[0;34m,\u001b[0m\u001b[0;34m\u001b[0m\u001b[0;34m\u001b[0m\u001b[0m\n",
            "\u001b[0;32m/usr/local/lib/python3.8/dist-packages/pandas/plotting/_matplotlib/style.py\u001b[0m in \u001b[0;36mget_standard_colors\u001b[0;34m(num_colors, colormap, color_type, color)\u001b[0m\n\u001b[1;32m     68\u001b[0m         \u001b[0;32mreturn\u001b[0m \u001b[0mcolor\u001b[0m\u001b[0;34m\u001b[0m\u001b[0;34m\u001b[0m\u001b[0m\n\u001b[1;32m     69\u001b[0m \u001b[0;34m\u001b[0m\u001b[0m\n\u001b[0;32m---> 70\u001b[0;31m     colors = _derive_colors(\n\u001b[0m\u001b[1;32m     71\u001b[0m         \u001b[0mcolor\u001b[0m\u001b[0;34m=\u001b[0m\u001b[0mcolor\u001b[0m\u001b[0;34m,\u001b[0m\u001b[0;34m\u001b[0m\u001b[0;34m\u001b[0m\u001b[0m\n\u001b[1;32m     72\u001b[0m         \u001b[0mcolormap\u001b[0m\u001b[0;34m=\u001b[0m\u001b[0mcolormap\u001b[0m\u001b[0;34m,\u001b[0m\u001b[0;34m\u001b[0m\u001b[0;34m\u001b[0m\u001b[0m\n",
            "\u001b[0;32m/usr/local/lib/python3.8/dist-packages/pandas/plotting/_matplotlib/style.py\u001b[0m in \u001b[0;36m_derive_colors\u001b[0;34m(color, colormap, color_type, num_colors)\u001b[0m\n\u001b[1;32m    124\u001b[0m                 \u001b[0;34m\"'color' and 'colormap' cannot be used simultaneously. Using 'color'\"\u001b[0m\u001b[0;34m\u001b[0m\u001b[0;34m\u001b[0m\u001b[0m\n\u001b[1;32m    125\u001b[0m             )\n\u001b[0;32m--> 126\u001b[0;31m         \u001b[0;32mreturn\u001b[0m \u001b[0m_get_colors_from_color\u001b[0m\u001b[0;34m(\u001b[0m\u001b[0mcolor\u001b[0m\u001b[0;34m)\u001b[0m\u001b[0;34m\u001b[0m\u001b[0;34m\u001b[0m\u001b[0m\n\u001b[0m\u001b[1;32m    127\u001b[0m     \u001b[0;32melse\u001b[0m\u001b[0;34m:\u001b[0m\u001b[0;34m\u001b[0m\u001b[0;34m\u001b[0m\u001b[0m\n\u001b[1;32m    128\u001b[0m         \u001b[0;32mreturn\u001b[0m \u001b[0m_get_colors_from_color_type\u001b[0m\u001b[0;34m(\u001b[0m\u001b[0mcolor_type\u001b[0m\u001b[0;34m,\u001b[0m \u001b[0mnum_colors\u001b[0m\u001b[0;34m=\u001b[0m\u001b[0mnum_colors\u001b[0m\u001b[0;34m)\u001b[0m\u001b[0;34m\u001b[0m\u001b[0;34m\u001b[0m\u001b[0m\n",
            "\u001b[0;32m/usr/local/lib/python3.8/dist-packages/pandas/plotting/_matplotlib/style.py\u001b[0m in \u001b[0;36m_get_colors_from_color\u001b[0;34m(color)\u001b[0m\n\u001b[1;32m    170\u001b[0m \u001b[0;34m\u001b[0m\u001b[0m\n\u001b[1;32m    171\u001b[0m     \u001b[0mcolor\u001b[0m \u001b[0;34m=\u001b[0m \u001b[0mcast\u001b[0m\u001b[0;34m(\u001b[0m\u001b[0mCollection\u001b[0m\u001b[0;34m[\u001b[0m\u001b[0mColor\u001b[0m\u001b[0;34m]\u001b[0m\u001b[0;34m,\u001b[0m \u001b[0mcolor\u001b[0m\u001b[0;34m)\u001b[0m\u001b[0;34m\u001b[0m\u001b[0;34m\u001b[0m\u001b[0m\n\u001b[0;32m--> 172\u001b[0;31m     \u001b[0;32mreturn\u001b[0m \u001b[0mlist\u001b[0m\u001b[0;34m(\u001b[0m\u001b[0m_gen_list_of_colors_from_iterable\u001b[0m\u001b[0;34m(\u001b[0m\u001b[0mcolor\u001b[0m\u001b[0;34m)\u001b[0m\u001b[0;34m)\u001b[0m\u001b[0;34m\u001b[0m\u001b[0;34m\u001b[0m\u001b[0m\n\u001b[0m\u001b[1;32m    173\u001b[0m \u001b[0;34m\u001b[0m\u001b[0m\n\u001b[1;32m    174\u001b[0m \u001b[0;34m\u001b[0m\u001b[0m\n",
            "\u001b[0;32m/usr/local/lib/python3.8/dist-packages/pandas/plotting/_matplotlib/style.py\u001b[0m in \u001b[0;36m_gen_list_of_colors_from_iterable\u001b[0;34m(color)\u001b[0m\n\u001b[1;32m    203\u001b[0m             \u001b[0;32myield\u001b[0m \u001b[0mx\u001b[0m\u001b[0;34m\u001b[0m\u001b[0;34m\u001b[0m\u001b[0m\n\u001b[1;32m    204\u001b[0m         \u001b[0;32melse\u001b[0m\u001b[0;34m:\u001b[0m\u001b[0;34m\u001b[0m\u001b[0;34m\u001b[0m\u001b[0m\n\u001b[0;32m--> 205\u001b[0;31m             \u001b[0;32mraise\u001b[0m \u001b[0mValueError\u001b[0m\u001b[0;34m(\u001b[0m\u001b[0;34mf\"Invalid color {x}\"\u001b[0m\u001b[0;34m)\u001b[0m\u001b[0;34m\u001b[0m\u001b[0;34m\u001b[0m\u001b[0m\n\u001b[0m\u001b[1;32m    206\u001b[0m \u001b[0;34m\u001b[0m\u001b[0m\n\u001b[1;32m    207\u001b[0m \u001b[0;34m\u001b[0m\u001b[0m\n",
            "\u001b[0;31mValueError\u001b[0m: Invalid color Congressional District 10 (116th Congress), Michigan"
          ]
        },
        {
          "output_type": "display_data",
          "data": {
            "text/plain": [
              "<Figure size 432x288 with 1 Axes>"
            ],
            "image/png": "[encoded data removed]"
          },
          "metadata": {
            "needs_background": "light"
          }
        }
      ]
    },
    {
      "cell_type": "code",
      "execution_count": 19,
      "id": "618ac794-13e6-45a4-b6e9-cfcd971dd656",
      "metadata": {
        "id": "618ac794-13e6-45a4-b6e9-cfcd971dd656",
        "outputId": "ff3f8a2d-db76-4f5f-ae9d-d5d35194b863",
        "colab": {
          "base_uri": "https://localhost:8080/",
          "height": 580
        }
      },
      "outputs": [
        {
          "output_type": "error",
          "ename": "AttributeError",
          "evalue": "ignored",
          "traceback": [
            "\u001b[0;31m---------------------------------------------------------------------------\u001b[0m",
            "\u001b[0;31mAttributeError\u001b[0m                            Traceback (most recent call last)",
            "\u001b[0;32m<ipython-input-19-a1c8847f3b8a>\u001b[0m in \u001b[0;36m<module>\u001b[0;34m\u001b[0m\n\u001b[0;32m----> 1\u001b[0;31m \u001b[0mplt\u001b[0m\u001b[0;34m.\u001b[0m\u001b[0mbar\u001b[0m\u001b[0;34m(\u001b[0m\u001b[0mdf_unpivot\u001b[0m\u001b[0;34m[\u001b[0m\u001b[0;34m\"variable\"\u001b[0m\u001b[0;34m]\u001b[0m\u001b[0;34m,\u001b[0m \u001b[0mdf_unpivot\u001b[0m\u001b[0;34m[\u001b[0m\u001b[0;34m\"value\"\u001b[0m\u001b[0;34m]\u001b[0m\u001b[0;34m,\u001b[0m \u001b[0mhue\u001b[0m\u001b[0;34m=\u001b[0m\u001b[0mdf_unpivot\u001b[0m\u001b[0;34m[\u001b[0m\u001b[0;34m\"District Name\"\u001b[0m\u001b[0;34m]\u001b[0m\u001b[0;34m)\u001b[0m\u001b[0;34m\u001b[0m\u001b[0;34m\u001b[0m\u001b[0m\n\u001b[0m\u001b[1;32m      2\u001b[0m \u001b[0;34m\u001b[0m\u001b[0m\n",
            "\u001b[0;32m/usr/local/lib/python3.8/dist-packages/matplotlib/pyplot.py\u001b[0m in \u001b[0;36mbar\u001b[0;34m(x, height, width, bottom, align, data, **kwargs)\u001b[0m\n\u001b[1;32m   2405\u001b[0m         \u001b[0mx\u001b[0m\u001b[0;34m,\u001b[0m \u001b[0mheight\u001b[0m\u001b[0;34m,\u001b[0m \u001b[0mwidth\u001b[0m\u001b[0;34m=\u001b[0m\u001b[0;36m0.8\u001b[0m\u001b[0;34m,\u001b[0m \u001b[0mbottom\u001b[0m\u001b[0;34m=\u001b[0m\u001b[0;32mNone\u001b[0m\u001b[0;34m,\u001b[0m \u001b[0;34m*\u001b[0m\u001b[0;34m,\u001b[0m \u001b[0malign\u001b[0m\u001b[0;34m=\u001b[0m\u001b[0;34m'center'\u001b[0m\u001b[0;34m,\u001b[0m\u001b[0;34m\u001b[0m\u001b[0;34m\u001b[0m\u001b[0m\n\u001b[1;32m   2406\u001b[0m         data=None, **kwargs):\n\u001b[0;32m-> 2407\u001b[0;31m     return gca().bar(\n\u001b[0m\u001b[1;32m   2408\u001b[0m         \u001b[0mx\u001b[0m\u001b[0;34m,\u001b[0m \u001b[0mheight\u001b[0m\u001b[0;34m,\u001b[0m \u001b[0mwidth\u001b[0m\u001b[0;34m=\u001b[0m\u001b[0mwidth\u001b[0m\u001b[0;34m,\u001b[0m \u001b[0mbottom\u001b[0m\u001b[0;34m=\u001b[0m\u001b[0mbottom\u001b[0m\u001b[0;34m,\u001b[0m \u001b[0malign\u001b[0m\u001b[0;34m=\u001b[0m\u001b[0malign\u001b[0m\u001b[0;34m,\u001b[0m\u001b[0;34m\u001b[0m\u001b[0;34m\u001b[0m\u001b[0m\n\u001b[1;32m   2409\u001b[0m         **({\"data\": data} if data is not None else {}), **kwargs)\n",
            "\u001b[0;32m/usr/local/lib/python3.8/dist-packages/matplotlib/__init__.py\u001b[0m in \u001b[0;36minner\u001b[0;34m(ax, data, *args, **kwargs)\u001b[0m\n\u001b[1;32m   1563\u001b[0m     \u001b[0;32mdef\u001b[0m \u001b[0minner\u001b[0m\u001b[0;34m(\u001b[0m\u001b[0max\u001b[0m\u001b[0;34m,\u001b[0m \u001b[0;34m*\u001b[0m\u001b[0margs\u001b[0m\u001b[0;34m,\u001b[0m \u001b[0mdata\u001b[0m\u001b[0;34m=\u001b[0m\u001b[0;32mNone\u001b[0m\u001b[0;34m,\u001b[0m \u001b[0;34m**\u001b[0m\u001b[0mkwargs\u001b[0m\u001b[0;34m)\u001b[0m\u001b[0;34m:\u001b[0m\u001b[0;34m\u001b[0m\u001b[0;34m\u001b[0m\u001b[0m\n\u001b[1;32m   1564\u001b[0m         \u001b[0;32mif\u001b[0m \u001b[0mdata\u001b[0m \u001b[0;32mis\u001b[0m \u001b[0;32mNone\u001b[0m\u001b[0;34m:\u001b[0m\u001b[0;34m\u001b[0m\u001b[0;34m\u001b[0m\u001b[0m\n\u001b[0;32m-> 1565\u001b[0;31m             \u001b[0;32mreturn\u001b[0m \u001b[0mfunc\u001b[0m\u001b[0;34m(\u001b[0m\u001b[0max\u001b[0m\u001b[0;34m,\u001b[0m \u001b[0;34m*\u001b[0m\u001b[0mmap\u001b[0m\u001b[0;34m(\u001b[0m\u001b[0msanitize_sequence\u001b[0m\u001b[0;34m,\u001b[0m \u001b[0margs\u001b[0m\u001b[0;34m)\u001b[0m\u001b[0;34m,\u001b[0m \u001b[0;34m**\u001b[0m\u001b[0mkwargs\u001b[0m\u001b[0;34m)\u001b[0m\u001b[0;34m\u001b[0m\u001b[0;34m\u001b[0m\u001b[0m\n\u001b[0m\u001b[1;32m   1566\u001b[0m \u001b[0;34m\u001b[0m\u001b[0m\n\u001b[1;32m   1567\u001b[0m         \u001b[0mbound\u001b[0m \u001b[0;34m=\u001b[0m \u001b[0mnew_sig\u001b[0m\u001b[0;34m.\u001b[0m\u001b[0mbind\u001b[0m\u001b[0;34m(\u001b[0m\u001b[0max\u001b[0m\u001b[0;34m,\u001b[0m \u001b[0;34m*\u001b[0m\u001b[0margs\u001b[0m\u001b[0;34m,\u001b[0m \u001b[0;34m**\u001b[0m\u001b[0mkwargs\u001b[0m\u001b[0;34m)\u001b[0m\u001b[0;34m\u001b[0m\u001b[0;34m\u001b[0m\u001b[0m\n",
            "\u001b[0;32m/usr/local/lib/python3.8/dist-packages/matplotlib/axes/_axes.py\u001b[0m in \u001b[0;36mbar\u001b[0;34m(self, x, height, width, bottom, align, **kwargs)\u001b[0m\n\u001b[1;32m   2396\u001b[0m                 \u001b[0mlabel\u001b[0m\u001b[0;34m=\u001b[0m\u001b[0;34m'_nolegend_'\u001b[0m\u001b[0;34m,\u001b[0m\u001b[0;34m\u001b[0m\u001b[0;34m\u001b[0m\u001b[0m\n\u001b[1;32m   2397\u001b[0m                 )\n\u001b[0;32m-> 2398\u001b[0;31m             \u001b[0mr\u001b[0m\u001b[0;34m.\u001b[0m\u001b[0mupdate\u001b[0m\u001b[0;34m(\u001b[0m\u001b[0mkwargs\u001b[0m\u001b[0;34m)\u001b[0m\u001b[0;34m\u001b[0m\u001b[0;34m\u001b[0m\u001b[0m\n\u001b[0m\u001b[1;32m   2399\u001b[0m             \u001b[0mr\u001b[0m\u001b[0;34m.\u001b[0m\u001b[0mget_path\u001b[0m\u001b[0;34m(\u001b[0m\u001b[0;34m)\u001b[0m\u001b[0;34m.\u001b[0m\u001b[0m_interpolation_steps\u001b[0m \u001b[0;34m=\u001b[0m \u001b[0;36m100\u001b[0m\u001b[0;34m\u001b[0m\u001b[0;34m\u001b[0m\u001b[0m\n\u001b[1;32m   2400\u001b[0m             \u001b[0;32mif\u001b[0m \u001b[0morientation\u001b[0m \u001b[0;34m==\u001b[0m \u001b[0;34m'vertical'\u001b[0m\u001b[0;34m:\u001b[0m\u001b[0;34m\u001b[0m\u001b[0;34m\u001b[0m\u001b[0m\n",
            "\u001b[0;32m/usr/local/lib/python3.8/dist-packages/matplotlib/artist.py\u001b[0m in \u001b[0;36mupdate\u001b[0;34m(self, props)\u001b[0m\n\u001b[1;32m   1004\u001b[0m \u001b[0;34m\u001b[0m\u001b[0m\n\u001b[1;32m   1005\u001b[0m         \u001b[0;32mwith\u001b[0m \u001b[0mcbook\u001b[0m\u001b[0;34m.\u001b[0m\u001b[0m_setattr_cm\u001b[0m\u001b[0;34m(\u001b[0m\u001b[0mself\u001b[0m\u001b[0;34m,\u001b[0m \u001b[0meventson\u001b[0m\u001b[0;34m=\u001b[0m\u001b[0;32mFalse\u001b[0m\u001b[0;34m)\u001b[0m\u001b[0;34m:\u001b[0m\u001b[0;34m\u001b[0m\u001b[0;34m\u001b[0m\u001b[0m\n\u001b[0;32m-> 1006\u001b[0;31m             \u001b[0mret\u001b[0m \u001b[0;34m=\u001b[0m \u001b[0;34m[\u001b[0m\u001b[0m_update_property\u001b[0m\u001b[0;34m(\u001b[0m\u001b[0mself\u001b[0m\u001b[0;34m,\u001b[0m \u001b[0mk\u001b[0m\u001b[0;34m,\u001b[0m \u001b[0mv\u001b[0m\u001b[0;34m)\u001b[0m \u001b[0;32mfor\u001b[0m \u001b[0mk\u001b[0m\u001b[0;34m,\u001b[0m \u001b[0mv\u001b[0m \u001b[0;32min\u001b[0m \u001b[0mprops\u001b[0m\u001b[0;34m.\u001b[0m\u001b[0mitems\u001b[0m\u001b[0;34m(\u001b[0m\u001b[0;34m)\u001b[0m\u001b[0;34m]\u001b[0m\u001b[0;34m\u001b[0m\u001b[0;34m\u001b[0m\u001b[0m\n\u001b[0m\u001b[1;32m   1007\u001b[0m \u001b[0;34m\u001b[0m\u001b[0m\n\u001b[1;32m   1008\u001b[0m         \u001b[0;32mif\u001b[0m \u001b[0mlen\u001b[0m\u001b[0;34m(\u001b[0m\u001b[0mret\u001b[0m\u001b[0;34m)\u001b[0m\u001b[0;34m:\u001b[0m\u001b[0;34m\u001b[0m\u001b[0;34m\u001b[0m\u001b[0m\n",
            "\u001b[0;32m/usr/local/lib/python3.8/dist-packages/matplotlib/artist.py\u001b[0m in \u001b[0;36m<listcomp>\u001b[0;34m(.0)\u001b[0m\n\u001b[1;32m   1004\u001b[0m \u001b[0;34m\u001b[0m\u001b[0m\n\u001b[1;32m   1005\u001b[0m         \u001b[0;32mwith\u001b[0m \u001b[0mcbook\u001b[0m\u001b[0;34m.\u001b[0m\u001b[0m_setattr_cm\u001b[0m\u001b[0;34m(\u001b[0m\u001b[0mself\u001b[0m\u001b[0;34m,\u001b[0m \u001b[0meventson\u001b[0m\u001b[0;34m=\u001b[0m\u001b[0;32mFalse\u001b[0m\u001b[0;34m)\u001b[0m\u001b[0;34m:\u001b[0m\u001b[0;34m\u001b[0m\u001b[0;34m\u001b[0m\u001b[0m\n\u001b[0;32m-> 1006\u001b[0;31m             \u001b[0mret\u001b[0m \u001b[0;34m=\u001b[0m \u001b[0;34m[\u001b[0m\u001b[0m_update_property\u001b[0m\u001b[0;34m(\u001b[0m\u001b[0mself\u001b[0m\u001b[0;34m,\u001b[0m \u001b[0mk\u001b[0m\u001b[0;34m,\u001b[0m \u001b[0mv\u001b[0m\u001b[0;34m)\u001b[0m \u001b[0;32mfor\u001b[0m \u001b[0mk\u001b[0m\u001b[0;34m,\u001b[0m \u001b[0mv\u001b[0m \u001b[0;32min\u001b[0m \u001b[0mprops\u001b[0m\u001b[0;34m.\u001b[0m\u001b[0mitems\u001b[0m\u001b[0;34m(\u001b[0m\u001b[0;34m)\u001b[0m\u001b[0;34m]\u001b[0m\u001b[0;34m\u001b[0m\u001b[0;34m\u001b[0m\u001b[0m\n\u001b[0m\u001b[1;32m   1007\u001b[0m \u001b[0;34m\u001b[0m\u001b[0m\n\u001b[1;32m   1008\u001b[0m         \u001b[0;32mif\u001b[0m \u001b[0mlen\u001b[0m\u001b[0;34m(\u001b[0m\u001b[0mret\u001b[0m\u001b[0;34m)\u001b[0m\u001b[0;34m:\u001b[0m\u001b[0;34m\u001b[0m\u001b[0;34m\u001b[0m\u001b[0m\n",
            "\u001b[0;32m/usr/local/lib/python3.8/dist-packages/matplotlib/artist.py\u001b[0m in \u001b[0;36m_update_property\u001b[0;34m(self, k, v)\u001b[0m\n\u001b[1;32m    999\u001b[0m                 \u001b[0mfunc\u001b[0m \u001b[0;34m=\u001b[0m \u001b[0mgetattr\u001b[0m\u001b[0;34m(\u001b[0m\u001b[0mself\u001b[0m\u001b[0;34m,\u001b[0m \u001b[0;34m'set_'\u001b[0m \u001b[0;34m+\u001b[0m \u001b[0mk\u001b[0m\u001b[0;34m,\u001b[0m \u001b[0;32mNone\u001b[0m\u001b[0;34m)\u001b[0m\u001b[0;34m\u001b[0m\u001b[0;34m\u001b[0m\u001b[0m\n\u001b[1;32m   1000\u001b[0m                 \u001b[0;32mif\u001b[0m \u001b[0;32mnot\u001b[0m \u001b[0mcallable\u001b[0m\u001b[0;34m(\u001b[0m\u001b[0mfunc\u001b[0m\u001b[0;34m)\u001b[0m\u001b[0;34m:\u001b[0m\u001b[0;34m\u001b[0m\u001b[0;34m\u001b[0m\u001b[0m\n\u001b[0;32m-> 1001\u001b[0;31m                     raise AttributeError('{!r} object has no property {!r}'\n\u001b[0m\u001b[1;32m   1002\u001b[0m                                          .format(type(self).__name__, k))\n\u001b[1;32m   1003\u001b[0m                 \u001b[0;32mreturn\u001b[0m \u001b[0mfunc\u001b[0m\u001b[0;34m(\u001b[0m\u001b[0mv\u001b[0m\u001b[0;34m)\u001b[0m\u001b[0;34m\u001b[0m\u001b[0;34m\u001b[0m\u001b[0m\n",
            "\u001b[0;31mAttributeError\u001b[0m: 'Rectangle' object has no property 'hue'"
          ]
        },
        {
          "output_type": "display_data",
          "data": {
            "text/plain": [
              "<Figure size 432x288 with 1 Axes>"
            ],
            "image/png": "[encoded data removed]"
          },
          "metadata": {
            "needs_background": "light"
          }
        }
      ],
      "source": [
        "plt.bar(df_unpivot[\"variable\"], df_unpivot[\"value\"], hue=df_unpivot[\"District Name\"])\n",
        "\n"
      ]
    },
    {
      "cell_type": "code",
      "execution_count": null,
      "id": "942a9082-dae4-49a6-bf35-a7bcd0b61258",
      "metadata": {
        "id": "942a9082-dae4-49a6-bf35-a7bcd0b61258"
      },
      "outputs": [],
      "source": []
    }
  ],
  "metadata": {
    "kernelspec": {
      "display_name": "Python 3 (ipykernel)",
      "language": "python",
      "name": "python3"
    },
    "language_info": {
      "codemirror_mode": {
        "name": "ipython",
        "version": 3
      },
      "file_extension": ".py",
      "mimetype": "text/x-python",
      "name": "python",
      "nbconvert_exporter": "python",
      "pygments_lexer": "ipython3",
      "version": "3.7.12"
    },
    "toc-autonumbering": false,
    "toc-showcode": true,
    "colab": {
      "provenance": []
    }
  },
  "nbformat": 4,
  "nbformat_minor": 5
}